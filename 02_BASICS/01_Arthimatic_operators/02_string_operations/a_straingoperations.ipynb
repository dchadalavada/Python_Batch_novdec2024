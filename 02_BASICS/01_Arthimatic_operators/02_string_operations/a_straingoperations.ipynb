{
 "cells": [
  {
   "cell_type": "markdown",
   "metadata": {},
   "source": [
    "1.Create Strings: Strings can be created using single, double, or triple quotes."
   ]
  },
  {
   "cell_type": "code",
   "execution_count": 3,
   "metadata": {},
   "outputs": [],
   "source": [
    "single_quote = 'Hello'\n",
    "double_quote = \"World\"\n",
    "triple_quote = '''Hello, Python!'''\n"
   ]
  },
  {
   "cell_type": "markdown",
   "metadata": {},
   "source": [
    "2.Accessing Characters (Indexing): Strings are indexed, starting at 0."
   ]
  },
  {
   "cell_type": "code",
   "execution_count": 4,
   "metadata": {},
   "outputs": [
    {
     "name": "stdout",
     "output_type": "stream",
     "text": [
      "P\n",
      "n\n"
     ]
    }
   ],
   "source": [
    "string = \"Python\"\n",
    "print(string[0])  # Output: P\n",
    "print(string[-1]) # Output: n\n"
   ]
  },
  {
   "cell_type": "markdown",
   "metadata": {},
   "source": [
    "3.Substring (Slicing): Extract parts of a string using slicing."
   ]
  },
  {
   "cell_type": "code",
   "execution_count": 5,
   "metadata": {},
   "outputs": [
    {
     "name": "stdout",
     "output_type": "stream",
     "text": [
      "Python\n",
      "Programming\n"
     ]
    }
   ],
   "source": [
    "string = \"Python Programming\"\n",
    "print(string[0:6])  # Output: Python\n",
    "print(string[7:])   # Output: Programming\n"
   ]
  },
  {
   "cell_type": "markdown",
   "metadata": {},
   "source": [
    "4.String Length: Use len() to get the length of a string."
   ]
  },
  {
   "cell_type": "code",
   "execution_count": 6,
   "metadata": {},
   "outputs": [
    {
     "name": "stdout",
     "output_type": "stream",
     "text": [
      "6\n"
     ]
    }
   ],
   "source": [
    "string = \"Python\"\n",
    "print(len(string))  # Output: 6\n"
   ]
  },
  {
   "cell_type": "markdown",
   "metadata": {},
   "source": [
    "###String Modification\n",
    "Convert Case:\n",
    "\n",
    "Convert to upper/lower case: upper(), lower().\n",
    "Capitalize the first letter: capitalize().\n",
    "Swap case: swapcase()."
   ]
  },
  {
   "cell_type": "code",
   "execution_count": 7,
   "metadata": {},
   "outputs": [
    {
     "name": "stdout",
     "output_type": "stream",
     "text": [
      "PYTHON\n",
      "python\n",
      "Python\n"
     ]
    }
   ],
   "source": [
    "string = \"Python\"\n",
    "print(string.upper())       # Output: PYTHON\n",
    "print(string.lower())       # Output: python\n",
    "print(string.capitalize())  # Output: Python\n"
   ]
  },
  {
   "cell_type": "markdown",
   "metadata": {},
   "source": [
    "6.Remove Whitespace: Use strip(), lstrip(), or rstrip() to remove unwanted spaces."
   ]
  },
  {
   "cell_type": "code",
   "execution_count": 9,
   "metadata": {},
   "outputs": [
    {
     "name": "stdout",
     "output_type": "stream",
     "text": [
      "   Hello, Python!   \n",
      "Hello, Python!\n"
     ]
    }
   ],
   "source": [
    "string = \"   Hello, Python!   \"\n",
    "print(string)\n",
    "print(string.strip())  # Output: Hello, Python!\n"
   ]
  },
  {
   "cell_type": "markdown",
   "metadata": {},
   "source": [
    "7.Replace Substring: Replace parts of a string using replace()."
   ]
  },
  {
   "cell_type": "code",
   "execution_count": 10,
   "metadata": {},
   "outputs": [
    {
     "name": "stdout",
     "output_type": "stream",
     "text": [
      "I love Python\n"
     ]
    }
   ],
   "source": [
    "string = \"I like Python\"\n",
    "print(string.replace(\"like\", \"love\"))  # Output: I love Python\n"
   ]
  },
  {
   "cell_type": "markdown",
   "metadata": {},
   "source": [
    "## Usage of Multiline Quotes"
   ]
  },
  {
   "cell_type": "markdown",
   "metadata": {},
   "source": [
    "1.Multiline Strings: Multiline quotes can store strings that span several lines."
   ]
  },
  {
   "cell_type": "code",
   "execution_count": 11,
   "metadata": {},
   "outputs": [
    {
     "name": "stdout",
     "output_type": "stream",
     "text": [
      "This is a string\n",
      "that spans multiple lines.\n",
      "It is very useful for long text.\n"
     ]
    }
   ],
   "source": [
    "text = \"\"\"This is a string\n",
    "that spans multiple lines.\n",
    "It is very useful for long text.\"\"\"\n",
    "print(text)\n"
   ]
  },
  {
   "cell_type": "markdown",
   "metadata": {},
   "source": [
    "2.Preserving Formatting: Preserve the exact structure of text, including line breaks and indentation."
   ]
  },
  {
   "cell_type": "code",
   "execution_count": 12,
   "metadata": {},
   "outputs": [
    {
     "name": "stdout",
     "output_type": "stream",
     "text": [
      "Roses are red,\n",
      "Violets are blue,\n",
      "Python is great,\n",
      "And so are you.\n"
     ]
    }
   ],
   "source": [
    "poem = '''Roses are red,\n",
    "Violets are blue,\n",
    "Python is great,\n",
    "And so are you.'''\n",
    "print(poem)\n"
   ]
  },
  {
   "cell_type": "markdown",
   "metadata": {},
   "source": [
    "3.Docstrings: Used for documentation in functions, classes, or modules."
   ]
  },
  {
   "cell_type": "code",
   "execution_count": 13,
   "metadata": {},
   "outputs": [
    {
     "name": "stdout",
     "output_type": "stream",
     "text": [
      "This function adds two numbers.\n",
      "    Args:\n",
      "    a (int): First number.\n",
      "    b (int): Second number.\n",
      "    \n",
      "    Returns:\n",
      "    int: Sum of a and b.\n",
      "    \n"
     ]
    }
   ],
   "source": [
    "def add(a, b):\n",
    "    \"\"\"This function adds two numbers.\n",
    "    Args:\n",
    "    a (int): First number.\n",
    "    b (int): Second number.\n",
    "    \n",
    "    Returns:\n",
    "    int: Sum of a and b.\n",
    "    \"\"\"\n",
    "    return a + b\n",
    "\n",
    "print(add.__doc__)\n"
   ]
  },
  {
   "cell_type": "markdown",
   "metadata": {},
   "source": [
    "4.Temporary Comments: Multiline quotes can act as multiline comments, although they are technically strings."
   ]
  },
  {
   "cell_type": "code",
   "execution_count": 14,
   "metadata": {},
   "outputs": [
    {
     "data": {
      "text/plain": [
       "'\\nThis is a temporary comment.\\nUseful for debugging or placeholders.\\n'"
      ]
     },
     "execution_count": 14,
     "metadata": {},
     "output_type": "execute_result"
    }
   ],
   "source": [
    "'''\n",
    "This is a temporary comment.\n",
    "Useful for debugging or placeholders.\n",
    "'''\n"
   ]
  },
  {
   "cell_type": "markdown",
   "metadata": {},
   "source": [
    "5.Creating JSON/XML or Other Complex Text: When working with large pieces of JSON, XML, or HTML code, multiline quotes make it easier to maintain formatting."
   ]
  },
  {
   "cell_type": "code",
   "execution_count": 15,
   "metadata": {},
   "outputs": [
    {
     "name": "stdout",
     "output_type": "stream",
     "text": [
      "{\n",
      "    \"name\": \"Alice\",\n",
      "    \"age\": 25,\n",
      "    \"city\": \"Wonderland\"\n",
      "}\n"
     ]
    }
   ],
   "source": [
    "json_data = \"\"\"{\n",
    "    \"name\": \"Alice\",\n",
    "    \"age\": 25,\n",
    "    \"city\": \"Wonderland\"\n",
    "}\"\"\"\n",
    "print(json_data)\n"
   ]
  },
  {
   "cell_type": "markdown",
   "metadata": {},
   "source": [
    "6.Dynamic Message Construction: Create dynamic user messages or log content."
   ]
  },
  {
   "cell_type": "code",
   "execution_count": 16,
   "metadata": {},
   "outputs": [
    {
     "name": "stdout",
     "output_type": "stream",
     "text": [
      "Hello, Alice!\n",
      "Welcome to Python programming.\n",
      "Enjoy coding!\n"
     ]
    }
   ],
   "source": [
    "name = \"Alice\"\n",
    "message = f\"\"\"Hello, {name}!\n",
    "Welcome to Python programming.\n",
    "Enjoy coding!\"\"\"\n",
    "print(message)\n"
   ]
  }
 ],
 "metadata": {
  "kernelspec": {
   "display_name": "Python 3",
   "language": "python",
   "name": "python3"
  },
  "language_info": {
   "codemirror_mode": {
    "name": "ipython",
    "version": 3
   },
   "file_extension": ".py",
   "mimetype": "text/x-python",
   "name": "python",
   "nbconvert_exporter": "python",
   "pygments_lexer": "ipython3",
   "version": "3.12.1"
  }
 },
 "nbformat": 4,
 "nbformat_minor": 2
}
