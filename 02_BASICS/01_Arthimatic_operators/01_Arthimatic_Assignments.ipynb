{
 "cells": [
  {
   "cell_type": "markdown",
   "metadata": {},
   "source": []
  },
  {
   "cell_type": "markdown",
   "metadata": {},
   "source": [
    "##ASSIGNMENTS"
   ]
  },
  {
   "cell_type": "markdown",
   "metadata": {},
   "source": [
    "#1.GET THE SUM OF DIGITS IN A INTEGER NUMBER USING DIVMOD()"
   ]
  },
  {
   "cell_type": "markdown",
   "metadata": {},
   "source": [
    "#2.IF A CLOCK HAS REVOLVED 32 TIMES AND IS HLFWAY ,HOW MANY DAYS TO COMPLETE\n",
    "\n",
    "- 1 CLOCK = 2 REVOLUTIONS / PER DAY\n",
    "- REVOLVED = 32 TIMES /2\n",
    "- REVOLVED DAYS = 16\n",
    "LOGIC:\n",
    "revolutions=32\n",
    "revolutions_per_day=2\n",
    "\n",
    "completed_days= revolutions // revolutions_per_day\n",
    "\n",
    "remaing_revolution = revolutions % revolutions_per_day\n",
    "\n",
    "remaing_day = remanig_revolutions / revolutions_per_day\n",
    "\n",
    "total_days = completed_days + remaing_day\n",
    "\n",
    "\n",
    "-\n"
   ]
  },
  {
   "cell_type": "code",
   "execution_count": null,
   "metadata": {},
   "outputs": [],
   "source": []
  },
  {
   "cell_type": "code",
   "execution_count": null,
   "metadata": {},
   "outputs": [
    {
     "name": "stdout",
     "output_type": "stream",
     "text": [
      "THE TOTAL DAYS TO COMPLETE IS  : 16.5\n"
     ]
    }
   ],
   "source": [
    "revolutions = 32\n",
    "revolution_per_day = 2\n",
    "\n",
    "completed_days = revolutions / revolution_per_day\n",
    "remaining_day = 0.5 \n",
    "tota_days = completed_days + remaining_day\n",
    "print (\"THE TOTAL DAYS TO COMPLETE IS  :\", tota_days )"
   ]
  }
 ],
 "metadata": {
  "kernelspec": {
   "display_name": "Python 3",
   "language": "python",
   "name": "python3"
  },
  "language_info": {
   "codemirror_mode": {
    "name": "ipython",
    "version": 3
   },
   "file_extension": ".py",
   "mimetype": "text/x-python",
   "name": "python",
   "nbconvert_exporter": "python",
   "pygments_lexer": "ipython3",
   "version": "3.12.1"
  }
 },
 "nbformat": 4,
 "nbformat_minor": 2
}
