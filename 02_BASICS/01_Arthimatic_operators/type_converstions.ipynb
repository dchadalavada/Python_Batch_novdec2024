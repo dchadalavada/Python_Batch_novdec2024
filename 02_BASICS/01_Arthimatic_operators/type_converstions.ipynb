{
 "cells": [
  {
   "cell_type": "markdown",
   "metadata": {},
   "source": [
    "Data Type Conversions in Python:\n",
    "\n",
    "What is Data Type Conversion?\n",
    "Data type conversion is the process of changing a value from one data type to another. In Python, this can be done explicitly (by using functions) or implicitly (automatically handled by Python)"
   ]
  },
  {
   "cell_type": "markdown",
   "metadata": {},
   "source": [
    "Types of Data Type Conversions:\n"
   ]
  },
  {
   "cell_type": "markdown",
   "metadata": {},
   "source": [
    "1. Implicit Conversion:\n",
    "Python automatically converts one data type to another when it is safe to do so."
   ]
  },
  {
   "cell_type": "code",
   "execution_count": 1,
   "metadata": {},
   "outputs": [
    {
     "name": "stdout",
     "output_type": "stream",
     "text": [
      "12.5\n",
      "<class 'float'>\n"
     ]
    }
   ],
   "source": [
    "# Implicit Conversion Example\n",
    "a = 10        # Integer\n",
    "b = 2.5       # Float\n",
    "\n",
    "result = a + b  # Python converts 'a' to float automatically\n",
    "print(result)   # Output: 12.5\n",
    "print(type(result))  # Output: <class 'float'>\n"
   ]
  },
  {
   "cell_type": "markdown",
   "metadata": {},
   "source": [
    "2. Explicit Conversion (Type Casting):\n",
    "\n",
    "You can explicitly convert a value from one data type to another using functions like:\n",
    "\n",
    "int(): Converts to an integer;\n",
    "float(): Converts to a float;\n",
    "str(): Converts to a string;\n",
    "bool(): Converts to a boolean;\n",
    "list(), tuple(), set(): Converts to respective collections"
   ]
  },
  {
   "cell_type": "markdown",
   "metadata": {},
   "source": [
    "# ##Examples of Explicit Conversion:\n"
   ]
  },
  {
   "cell_type": "code",
   "execution_count": 2,
   "metadata": {},
   "outputs": [
    {
     "name": "stdout",
     "output_type": "stream",
     "text": [
      "10.0\n",
      "<class 'float'>\n"
     ]
    }
   ],
   "source": [
    "# Integer to Float\n",
    "num = 10\n",
    "converted_num = float(num)\n",
    "print(converted_num)       # Output: 10.0\n",
    "print(type(converted_num)) # Output: <class 'float'>\n",
    "\n"
   ]
  }
 ],
 "metadata": {
  "kernelspec": {
   "display_name": "Python 3",
   "language": "python",
   "name": "python3"
  },
  "language_info": {
   "codemirror_mode": {
    "name": "ipython",
    "version": 3
   },
   "file_extension": ".py",
   "mimetype": "text/x-python",
   "name": "python",
   "nbconvert_exporter": "python",
   "pygments_lexer": "ipython3",
   "version": "3.12.1"
  }
 },
 "nbformat": 4,
 "nbformat_minor": 2
}
