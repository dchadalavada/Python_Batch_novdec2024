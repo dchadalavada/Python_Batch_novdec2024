{
 "cells": [
  {
   "cell_type": "markdown",
   "metadata": {},
   "source": [
    "### complex numbers\n"
   ]
  },
  {
   "cell_type": "markdown",
   "metadata": {},
   "source": [
    "In Python, complex numbers are natively supported and are used to represent numbers in the form \n",
    "(𝑎+𝑏𝑗)\n",
    "\n",
    "a+bj, where:\n",
    "\n",
    "𝑎:\n",
    "a is the real part (a float or integer).\n",
    "𝑏:\n",
    "b is the imaginary part (a float or integer).\n",
    "j:\n",
    "j represents the imaginary unit (square root (1))."
   ]
  },
  {
   "cell_type": "markdown",
   "metadata": {},
   "source": [
    "Common Use Cases in Python\n",
    "Solving Quadratic Equations: Quadratic equations with negative discriminants have complex solutions.\n"
   ]
  },
  {
   "cell_type": "code",
   "execution_count": null,
   "metadata": {},
   "outputs": [
    {
     "name": "stdout",
     "output_type": "stream",
     "text": [
      "(-1+2j) (-1-2j)\n"
     ]
    }
   ],
   "source": [
    "import cmath  # Use cmath for complex math functions\n",
    "\n",
    "a, b, c = 1, 2, 5  # Coefficients of ax^2 + bx + c = 0\n",
    "discriminant = cmath.sqrt(b**2 - 4*a*c)  # Complex square root\n",
    "root1 = (-b + discriminant) / (2*a)\n",
    "root2 = (-b - discriminant) / (2*a)\n",
    "print(root1, root2)  # Outputs: (-1+2j), (-1-2j)"
   ]
  }
 ],
 "metadata": {
  "kernelspec": {
   "display_name": "Python 3",
   "language": "python",
   "name": "python3"
  },
  "language_info": {
   "codemirror_mode": {
    "name": "ipython",
    "version": 3
   },
   "file_extension": ".py",
   "mimetype": "text/x-python",
   "name": "python",
   "nbconvert_exporter": "python",
   "pygments_lexer": "ipython3",
   "version": "3.12.1"
  }
 },
 "nbformat": 4,
 "nbformat_minor": 2
}
